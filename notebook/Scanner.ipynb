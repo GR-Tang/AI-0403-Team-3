{
 "cells": [
  {
   "cell_type": "code",
   "execution_count": 1,
   "metadata": {},
   "outputs": [],
   "source": [
    "import os\n",
    "from itertools import groupby\n",
    "from operator import itemgetter\n",
    "\n",
    "# You traverse the tree twice. Not really necessary. The code essentially creates a list of tuples. \n",
    "# Each tuple contains the depth, the relative path, and the filename.\n",
    "# After that the list is sorted to have the deepest folder(s) first.\n",
    "# Following that the code groups the files by depth and relative path. \n",
    "# it is using the groupby method of the itertools method.\n",
    "\n",
    "def get_deepest_folders(path):\n",
    "\n",
    "    all_files = []\n",
    "\n",
    "    for root, dirs, files in os.walk(path):\n",
    "        for file in files:\n",
    "            relativePath = os.path.relpath(root, SEARCH_PATH)\n",
    "            if relativePath == \".\":\n",
    "                relativePath = \"\"\n",
    "        all_files.append(\n",
    "            (relativePath.count(os.path.sep),\n",
    "             relativePath,\n",
    "             file\n",
    "             )\n",
    "        )\n",
    "\n",
    "    all_files.sort(reverse=True)\n",
    "\n",
    "    for (count, folder), files in groupby(all_files, itemgetter(0, 1)):\n",
    "        print('Directory:', folder)\n",
    "        for file in files:\n",
    "            print('File:', file[2])\n",
    "    return all_files"
   ]
  },
  {
   "cell_type": "code",
   "execution_count": 2,
   "metadata": {
    "scrolled": false
   },
   "outputs": [
    {
     "name": "stdout",
     "output_type": "stream",
     "text": [
      "Now:  test ['test', 'training', 'validation']\n",
      "Now:  training ['test', 'training', 'validation']\n",
      "Now:  validation ['test', 'training', 'validation']\n",
      "Now:  WithMask ['WithMask']\n",
      "Now:  WithMask ['WithMask']\n",
      "Now:  WithMask ['WithMask']\n"
     ]
    }
   ],
   "source": [
    "all_files = get_deepest_folders(\"../data\")"
   ]
  },
  {
   "cell_type": "code",
   "execution_count": 3,
   "metadata": {},
   "outputs": [
    {
     "data": {
      "text/plain": [
       "[]"
      ]
     },
     "execution_count": 3,
     "metadata": {},
     "output_type": "execute_result"
    }
   ],
   "source": [
    "all_files"
   ]
  },
  {
   "cell_type": "code",
   "execution_count": null,
   "metadata": {},
   "outputs": [],
   "source": []
  },
  {
   "cell_type": "code",
   "execution_count": null,
   "metadata": {},
   "outputs": [],
   "source": []
  },
  {
   "cell_type": "code",
   "execution_count": null,
   "metadata": {},
   "outputs": [],
   "source": []
  }
 ],
 "metadata": {
  "kernelspec": {
   "display_name": "Python 3",
   "language": "python",
   "name": "python3"
  },
  "language_info": {
   "codemirror_mode": {
    "name": "ipython",
    "version": 3
   },
   "file_extension": ".py",
   "mimetype": "text/x-python",
   "name": "python",
   "nbconvert_exporter": "python",
   "pygments_lexer": "ipython3",
   "version": "3.8.5"
  }
 },
 "nbformat": 4,
 "nbformat_minor": 4
}
